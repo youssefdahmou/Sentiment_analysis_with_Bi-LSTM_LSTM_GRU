{
 "cells": [
  {
   "cell_type": "code",
   "execution_count": 1,
   "id": "4e592286",
   "metadata": {},
   "outputs": [],
   "source": [
    "import numpy as np\n",
    "import pandas as pd\n",
    "import matplotlib.pyplot as plt\n",
    "from sklearn.model_selection import train_test_split\n",
    "from tensorflow.keras.preprocessing.text import Tokenizer\n",
    "from tensorflow.keras.models import Sequential\n",
    "from tensorflow.keras.layers import Embedding, LSTM, Dense"
   ]
  },
  {
   "cell_type": "markdown",
   "id": "11b1aac0",
   "metadata": {},
   "source": [
    "\n",
    "# <span style=\"color:red; font-style:italic; text-decoration:underline;\"> Partie I : Implémenter un réseau LSTM pour l'analyse de sentiment à l'aide d'un ensemble de données au format CSV. </span>"
   ]
  },
  {
   "cell_type": "code",
   "execution_count": 18,
   "id": "09909a1f",
   "metadata": {},
   "outputs": [
    {
     "data": {
      "text/html": [
       "<div>\n",
       "<style scoped>\n",
       "    .dataframe tbody tr th:only-of-type {\n",
       "        vertical-align: middle;\n",
       "    }\n",
       "\n",
       "    .dataframe tbody tr th {\n",
       "        vertical-align: top;\n",
       "    }\n",
       "\n",
       "    .dataframe thead th {\n",
       "        text-align: right;\n",
       "    }\n",
       "</style>\n",
       "<table border=\"1\" class=\"dataframe\">\n",
       "  <thead>\n",
       "    <tr style=\"text-align: right;\">\n",
       "      <th></th>\n",
       "      <th>review</th>\n",
       "      <th>sentiment</th>\n",
       "    </tr>\n",
       "  </thead>\n",
       "  <tbody>\n",
       "    <tr>\n",
       "      <th>0</th>\n",
       "      <td>One of the other reviewers has mentioned that ...</td>\n",
       "      <td>positive</td>\n",
       "    </tr>\n",
       "    <tr>\n",
       "      <th>1</th>\n",
       "      <td>A wonderful little production. &lt;br /&gt;&lt;br /&gt;The...</td>\n",
       "      <td>positive</td>\n",
       "    </tr>\n",
       "    <tr>\n",
       "      <th>2</th>\n",
       "      <td>I thought this was a wonderful way to spend ti...</td>\n",
       "      <td>positive</td>\n",
       "    </tr>\n",
       "    <tr>\n",
       "      <th>3</th>\n",
       "      <td>Basically there's a family where a little boy ...</td>\n",
       "      <td>negative</td>\n",
       "    </tr>\n",
       "    <tr>\n",
       "      <th>4</th>\n",
       "      <td>Petter Mattei's \"Love in the Time of Money\" is...</td>\n",
       "      <td>positive</td>\n",
       "    </tr>\n",
       "    <tr>\n",
       "      <th>...</th>\n",
       "      <td>...</td>\n",
       "      <td>...</td>\n",
       "    </tr>\n",
       "    <tr>\n",
       "      <th>49995</th>\n",
       "      <td>I thought this movie did a down right good job...</td>\n",
       "      <td>positive</td>\n",
       "    </tr>\n",
       "    <tr>\n",
       "      <th>49996</th>\n",
       "      <td>Bad plot, bad dialogue, bad acting, idiotic di...</td>\n",
       "      <td>negative</td>\n",
       "    </tr>\n",
       "    <tr>\n",
       "      <th>49997</th>\n",
       "      <td>I am a Catholic taught in parochial elementary...</td>\n",
       "      <td>negative</td>\n",
       "    </tr>\n",
       "    <tr>\n",
       "      <th>49998</th>\n",
       "      <td>I'm going to have to disagree with the previou...</td>\n",
       "      <td>negative</td>\n",
       "    </tr>\n",
       "    <tr>\n",
       "      <th>49999</th>\n",
       "      <td>No one expects the Star Trek movies to be high...</td>\n",
       "      <td>negative</td>\n",
       "    </tr>\n",
       "  </tbody>\n",
       "</table>\n",
       "<p>50000 rows × 2 columns</p>\n",
       "</div>"
      ],
      "text/plain": [
       "                                                  review sentiment\n",
       "0      One of the other reviewers has mentioned that ...  positive\n",
       "1      A wonderful little production. <br /><br />The...  positive\n",
       "2      I thought this was a wonderful way to spend ti...  positive\n",
       "3      Basically there's a family where a little boy ...  negative\n",
       "4      Petter Mattei's \"Love in the Time of Money\" is...  positive\n",
       "...                                                  ...       ...\n",
       "49995  I thought this movie did a down right good job...  positive\n",
       "49996  Bad plot, bad dialogue, bad acting, idiotic di...  negative\n",
       "49997  I am a Catholic taught in parochial elementary...  negative\n",
       "49998  I'm going to have to disagree with the previou...  negative\n",
       "49999  No one expects the Star Trek movies to be high...  negative\n",
       "\n",
       "[50000 rows x 2 columns]"
      ]
     },
     "execution_count": 18,
     "metadata": {},
     "output_type": "execute_result"
    }
   ],
   "source": [
    "dataset = pd.read_csv('data/IMDB Dataset.csv') \n",
    "dataset "
   ]
  },
  {
   "cell_type": "markdown",
   "id": "636c8726",
   "metadata": {},
   "source": [
    "> ##  <span style=\"color:green ; font-style:italic; text-decoration:underline;\"> 1) Chargement et Exploration du Jeu de Données </span>"
   ]
  },
  {
   "cell_type": "markdown",
   "id": "df808f23",
   "metadata": {},
   "source": [
    ">> ###  <span style=\"color:brown ; font-style:italic; text-decoration:underline;\"> a) - Data Cleaning </span>"
   ]
  },
  {
   "cell_type": "code",
   "execution_count": 17,
   "id": "8844408f",
   "metadata": {},
   "outputs": [
    {
     "data": {
      "text/html": [
       "<div>\n",
       "<style scoped>\n",
       "    .dataframe tbody tr th:only-of-type {\n",
       "        vertical-align: middle;\n",
       "    }\n",
       "\n",
       "    .dataframe tbody tr th {\n",
       "        vertical-align: top;\n",
       "    }\n",
       "\n",
       "    .dataframe thead th {\n",
       "        text-align: right;\n",
       "    }\n",
       "</style>\n",
       "<table border=\"1\" class=\"dataframe\">\n",
       "  <thead>\n",
       "    <tr style=\"text-align: right;\">\n",
       "      <th></th>\n",
       "      <th>review</th>\n",
       "      <th>sentiment</th>\n",
       "    </tr>\n",
       "  </thead>\n",
       "  <tbody>\n",
       "    <tr>\n",
       "      <th>0</th>\n",
       "      <td>One of the other reviewers has mentioned that ...</td>\n",
       "      <td>positive</td>\n",
       "    </tr>\n",
       "    <tr>\n",
       "      <th>1</th>\n",
       "      <td>A wonderful little production. The filming tec...</td>\n",
       "      <td>positive</td>\n",
       "    </tr>\n",
       "    <tr>\n",
       "      <th>2</th>\n",
       "      <td>I thought this was a wonderful way to spend ti...</td>\n",
       "      <td>positive</td>\n",
       "    </tr>\n",
       "  </tbody>\n",
       "</table>\n",
       "</div>"
      ],
      "text/plain": [
       "                                              review sentiment\n",
       "0  One of the other reviewers has mentioned that ...  positive\n",
       "1  A wonderful little production. The filming tec...  positive\n",
       "2  I thought this was a wonderful way to spend ti...  positive"
      ]
     },
     "execution_count": 17,
     "metadata": {},
     "output_type": "execute_result"
    }
   ],
   "source": [
    "l =  list(dataset.review)\n",
    "for i in range(len(l)) :\n",
    "    x = l[i].replace('<br />','')\n",
    "    l[i]= x.replace('<br />','')\n",
    "dataset.review = l \n",
    "dataset.head(3)"
   ]
  },
  {
   "cell_type": "markdown",
   "id": "0e0b6856",
   "metadata": {},
   "source": [
    ">> ###  <span style=\"color:brown ; font-style:italic; text-decoration:underline;\">  b - Exploration du dataset </span>"
   ]
  },
  {
   "cell_type": "code",
   "execution_count": 4,
   "id": "33c51119",
   "metadata": {},
   "outputs": [
    {
     "data": {
      "text/html": [
       "<div>\n",
       "<style scoped>\n",
       "    .dataframe tbody tr th:only-of-type {\n",
       "        vertical-align: middle;\n",
       "    }\n",
       "\n",
       "    .dataframe tbody tr th {\n",
       "        vertical-align: top;\n",
       "    }\n",
       "\n",
       "    .dataframe thead th {\n",
       "        text-align: right;\n",
       "    }\n",
       "</style>\n",
       "<table border=\"1\" class=\"dataframe\">\n",
       "  <thead>\n",
       "    <tr style=\"text-align: right;\">\n",
       "      <th></th>\n",
       "      <th>review</th>\n",
       "      <th>sentiment</th>\n",
       "    </tr>\n",
       "  </thead>\n",
       "  <tbody>\n",
       "    <tr>\n",
       "      <th>0</th>\n",
       "      <td>One of the other reviewers has mentioned that ...</td>\n",
       "      <td>positive</td>\n",
       "    </tr>\n",
       "    <tr>\n",
       "      <th>1</th>\n",
       "      <td>A wonderful little production. The filming tec...</td>\n",
       "      <td>positive</td>\n",
       "    </tr>\n",
       "    <tr>\n",
       "      <th>2</th>\n",
       "      <td>I thought this was a wonderful way to spend ti...</td>\n",
       "      <td>positive</td>\n",
       "    </tr>\n",
       "    <tr>\n",
       "      <th>3</th>\n",
       "      <td>Basically there's a family where a little boy ...</td>\n",
       "      <td>negative</td>\n",
       "    </tr>\n",
       "    <tr>\n",
       "      <th>4</th>\n",
       "      <td>Petter Mattei's \"Love in the Time of Money\" is...</td>\n",
       "      <td>positive</td>\n",
       "    </tr>\n",
       "  </tbody>\n",
       "</table>\n",
       "</div>"
      ],
      "text/plain": [
       "                                              review sentiment\n",
       "0  One of the other reviewers has mentioned that ...  positive\n",
       "1  A wonderful little production. The filming tec...  positive\n",
       "2  I thought this was a wonderful way to spend ti...  positive\n",
       "3  Basically there's a family where a little boy ...  negative\n",
       "4  Petter Mattei's \"Love in the Time of Money\" is...  positive"
      ]
     },
     "execution_count": 4,
     "metadata": {},
     "output_type": "execute_result"
    }
   ],
   "source": [
    "dataset.head()"
   ]
  },
  {
   "cell_type": "code",
   "execution_count": null,
   "id": "a2c0da51",
   "metadata": {},
   "outputs": [],
   "source": [
    "dataset.info()"
   ]
  },
  {
   "cell_type": "markdown",
   "id": "feb8888b",
   "metadata": {},
   "source": [
    "> ##  <span style=\"color:green ; font-style:italic; text-decoration:underline;\"> 2 - Tokenisation des textes </span>"
   ]
  },
  {
   "cell_type": "code",
   "execution_count": 6,
   "id": "fbd9c6b7",
   "metadata": {},
   "outputs": [],
   "source": [
    "tokenizer = Tokenizer()\n",
    "tokenizer.fit_on_texts(dataset['review'])"
   ]
  },
  {
   "cell_type": "markdown",
   "id": "acc33233",
   "metadata": {},
   "source": [
    "> ##  <span style=\"color:green ; font-style:italic; text-decoration:underline;\">3 -  Convertir chaque critique textuelle en séquence numérique </span>"
   ]
  },
  {
   "cell_type": "code",
   "execution_count": 8,
   "id": "5d7a21eb",
   "metadata": {},
   "outputs": [],
   "source": [
    "sequences = tokenizer.texts_to_sequences(dataset['review'])"
   ]
  },
  {
   "cell_type": "code",
   "execution_count": null,
   "id": "5c034f65",
   "metadata": {},
   "outputs": [],
   "source": []
  },
  {
   "cell_type": "code",
   "execution_count": 13,
   "id": "e85e3568",
   "metadata": {},
   "outputs": [],
   "source": [
    "from tensorflow.keras.preprocessing.sequence import pad_sequences\n",
    "sequence_length = 200\n",
    "X = pad_sequences(sequences, maxlen=sequence_length)\n",
    "dataset['sentiment_code'] = dataset['sentiment'].apply(lambda x: 1 if x == 'positive' else 0)\n",
    "y = dataset['sentiment_code']\n",
    "X_train, X_test, y_train, y_test = train_test_split(X, y, test_size=0.2, random_state=42)"
   ]
  },
  {
   "cell_type": "markdown",
   "id": "53e3f0f6",
   "metadata": {},
   "source": [
    "> ##  <span style=\"color:green ; font-style:italic; text-decoration:underline;\"> 4- Construction du Modèle RNN basique </span>"
   ]
  },
  {
   "cell_type": "code",
   "execution_count": 10,
   "id": "8a9ae2fc",
   "metadata": {},
   "outputs": [
    {
     "name": "stdout",
     "output_type": "stream",
     "text": [
      "Model: \"sequential\"\n",
      "_________________________________________________________________\n",
      " Layer (type)                Output Shape              Param #   \n",
      "=================================================================\n",
      " embedding (Embedding)       (None, 200, 32)           4048416   \n",
      "                                                                 \n",
      " lstm (LSTM)                 (None, 32)                8320      \n",
      "                                                                 \n",
      " dense (Dense)               (None, 1)                 33        \n",
      "                                                                 \n",
      "=================================================================\n",
      "Total params: 4056769 (15.48 MB)\n",
      "Trainable params: 4056769 (15.48 MB)\n",
      "Non-trainable params: 0 (0.00 Byte)\n",
      "_________________________________________________________________\n"
     ]
    }
   ],
   "source": [
    "\n",
    "model = Sequential()\n",
    "embedding_dim = 32\n",
    "vocab_size = len(tokenizer.word_index) + 1\n",
    "model.add(Embedding(input_dim=vocab_size, output_dim=embedding_dim, input_length=sequence_length))\n",
    "model.add(LSTM(units=32))\n",
    "model.add(Dense(units=1, activation='sigmoid'))\n",
    "model.summary()"
   ]
  },
  {
   "cell_type": "markdown",
   "id": "229436f7",
   "metadata": {},
   "source": [
    "> ##  <span style=\"color:green ; font-style:italic; text-decoration:underline;\"> 5 - Compilation du Modèle </span>"
   ]
  },
  {
   "cell_type": "code",
   "execution_count": 12,
   "id": "a4db1dc4",
   "metadata": {},
   "outputs": [],
   "source": [
    "model.compile(optimizer='adam', loss='binary_crossentropy', metrics=['accuracy'])"
   ]
  },
  {
   "cell_type": "markdown",
   "id": "cab67996",
   "metadata": {},
   "source": [
    "> ##  <span style=\"color:green ; font-style:italic; text-decoration:underline;\"> 6 -  Entraînez le modèle </span>"
   ]
  },
  {
   "cell_type": "code",
   "execution_count": 20,
   "id": "a73b81bb",
   "metadata": {},
   "outputs": [
    {
     "name": "stdout",
     "output_type": "stream",
     "text": [
      "Epoch 1/10\n",
      "250/250 [==============================] - 28s 114ms/step - loss: 0.0089 - accuracy: 0.9974 - val_loss: 0.6381 - val_accuracy: 0.8611\n",
      "Epoch 2/10\n",
      "250/250 [==============================] - 34s 136ms/step - loss: 0.0094 - accuracy: 0.9971 - val_loss: 0.6939 - val_accuracy: 0.8619\n",
      "Epoch 3/10\n",
      "250/250 [==============================] - 31s 125ms/step - loss: 0.0079 - accuracy: 0.9977 - val_loss: 0.9111 - val_accuracy: 0.8593\n",
      "Epoch 4/10\n",
      "250/250 [==============================] - 35s 138ms/step - loss: 0.0095 - accuracy: 0.9974 - val_loss: 0.6826 - val_accuracy: 0.8608\n",
      "Epoch 5/10\n",
      "250/250 [==============================] - 33s 131ms/step - loss: 0.0130 - accuracy: 0.9958 - val_loss: 0.7022 - val_accuracy: 0.8529\n",
      "Epoch 6/10\n",
      "250/250 [==============================] - 33s 133ms/step - loss: 0.0089 - accuracy: 0.9972 - val_loss: 0.8179 - val_accuracy: 0.8579\n",
      "Epoch 7/10\n",
      "250/250 [==============================] - 34s 136ms/step - loss: 0.0034 - accuracy: 0.9989 - val_loss: 0.9404 - val_accuracy: 0.8568\n",
      "Epoch 8/10\n",
      "250/250 [==============================] - 30s 121ms/step - loss: 0.0020 - accuracy: 0.9995 - val_loss: 0.8575 - val_accuracy: 0.8543\n",
      "Epoch 9/10\n",
      "250/250 [==============================] - 33s 132ms/step - loss: 8.6192e-04 - accuracy: 0.9998 - val_loss: 0.9508 - val_accuracy: 0.8564\n",
      "Epoch 10/10\n",
      "250/250 [==============================] - 34s 134ms/step - loss: 2.2253e-04 - accuracy: 1.0000 - val_loss: 1.0419 - val_accuracy: 0.8556\n"
     ]
    },
    {
     "data": {
      "image/png": "[encoded data removed]",
      "text/plain": [
       "<Figure size 640x480 with 1 Axes>"
      ]
     },
     "metadata": {},
     "output_type": "display_data"
    }
   ],
   "source": [
    "history = model.fit(X_train, y_train, epochs=10, batch_size=128, validation_split=0.2)\n",
    "\n",
    "plt.plot(history.history['loss'], label='Training Loss')\n",
    "plt.plot(history.history['accuracy'], label='Training Accuracy')\n",
    "plt.xlabel('Epochs')\n",
    "plt.legend()\n",
    "plt.show()"
   ]
  },
  {
   "cell_type": "markdown",
   "id": "5cb2bf3e",
   "metadata": {},
   "source": [
    "> ##  <span style=\"color:green ; font-style:italic; text-decoration:underline;\"> 7 - Évaluation du Modèle </span>"
   ]
  },
  {
   "cell_type": "code",
   "execution_count": 21,
   "id": "fe7a37c5",
   "metadata": {},
   "outputs": [
    {
     "name": "stdout",
     "output_type": "stream",
     "text": [
      "313/313 [==============================] - 6s 20ms/step - loss: 0.9687 - accuracy: 0.8622\n",
      "Loss: 0.9687460660934448, Accuracy: 0.8622000217437744\n"
     ]
    }
   ],
   "source": [
    "from sklearn.metrics import accuracy_score, classification_report\n",
    "loss, accuracy = model.evaluate(X_test, y_test)\n",
    "print(f'Loss: {loss}, Accuracy: {accuracy}')"
   ]
  },
  {
   "cell_type": "markdown",
   "id": "b14a09d6",
   "metadata": {},
   "source": [
    "> ##  <span style=\"color:green ; font-style:italic; text-decoration:underline;\"> 8 - Prédictions sur l'ensemble de test </span>"
   ]
  },
  {
   "cell_type": "code",
   "execution_count": 26,
   "id": "d9567635",
   "metadata": {},
   "outputs": [
    {
     "name": "stdout",
     "output_type": "stream",
     "text": [
      "313/313 [==============================] - 6s 18ms/step\n",
      "Accuracy: 0.8622\n",
      "métriques de performance : \n",
      "              precision    recall  f1-score   support\n",
      "\n",
      "           0       0.87      0.84      0.86      4961\n",
      "           1       0.85      0.88      0.87      5039\n",
      "\n",
      "    accuracy                           0.86     10000\n",
      "   macro avg       0.86      0.86      0.86     10000\n",
      "weighted avg       0.86      0.86      0.86     10000\n",
      "\n"
     ]
    }
   ],
   "source": [
    "y_pred_probs = model.predict(X_test)\n",
    "y_pred = np.round(y_pred_probs).flatten()# Convertir les probabilités en classes\n",
    "precision = accuracy_score(y_test, y_pred)\n",
    "print(f'Accuracy: {precision}')\n",
    "\n",
    "print('métriques de performance : ')\n",
    "print(classification_report(y_test, y_pred))"
   ]
  },
  {
   "cell_type": "markdown",
   "id": "ed5f152c",
   "metadata": {},
   "source": [
    "#### - Accuracy (Précision globale) : 86.22%\n",
    "        - L'accuracy représente le pourcentage total de prédictions correctes par rapport au nombre total d'échantillons. Dans ce cas, l'accuracy est de 86.22%, ce qui indique que le modèle a correctement classé environ 86.22% des échantillons.\n",
    "\n",
    "#### Précision, Recall, et F1-score par Classe :\n",
    "\n",
    "> ##### Classe 0 (Première classe: négative) :\n",
    "            * Précision : 87%\n",
    "                - Cela signifie que parmi toutes les prédictions positives pour la classe 0, 87% étaient correctes.\n",
    "            * Rappel (Sensibilité) : 84%\n",
    "                - Cela signifie que parmi tous les exemples réels de la classe 0, le modèle en a correctement identifié 84%.\n",
    "            * F1-score : 86%\n",
    "                - Il s'agit de la moyenne pondérée de la précision et du rappel et est utile lorsque les classes ne sont pas équilibrées. Un F1-score élevé indique un bon équilibre entre précision et rappel.\n",
    "> ##### Classe 1 (Deuxième classe : positive) :\n",
    "            * Précision : 85%\n",
    "                - Cela signifie que parmi toutes les prédictions positives pour la classe 1, 85% étaient correctes.\n",
    "            * Rappel : 88%\n",
    "                - Cela signifie que parmi tous les exemples réels de la classe 1, le modèle en a correctement identifié 88%.\n",
    "            * F1-score : 87%\n",
    "            \n",
    "#### Moyennes pondérées :\n",
    "    * Moyenne pondérée de la précision : 86%\n",
    "    * Moyenne pondérée du rappel : 86%\n",
    "    * Moyenne pondérée du F1-score : 86%\n",
    "#### Macro-average :\n",
    "    * Macro-average de la précision, du rappel et du F1-score : 86%\n",
    "        - La macro-average prend la moyenne non pondérée des métriques pour chaque classe. Dans ce cas, elle est de 86%, ce qui indique un bon équilibre global entre les performances des deux classes.\n"
   ]
  },
  {
   "cell_type": "markdown",
   "id": "e03bf2e6",
   "metadata": {},
   "source": [
    " #  <span style=\"color:red ; font-style:italic; text-decoration:underline;\"> Partie II : Implémenter un réseau Bi-LSTM pour l'analyse de sentiment à l'aide d'un ensemble de données au format CSV. </span>"
   ]
  },
  {
   "cell_type": "code",
   "execution_count": 29,
   "id": "d4e3c16e",
   "metadata": {},
   "outputs": [],
   "source": [
    "\n",
    "from tensorflow.keras.layers import SimpleRNN, Dense, Embedding, LSTM, Bidirectional"
   ]
  },
  {
   "cell_type": "markdown",
   "id": "f07d07b8",
   "metadata": {},
   "source": [
    "> ##  <span style=\"color:green ; font-style:italic; text-decoration:underline;\"> 1 - Construction du Modèle Bi-LSTM </span>"
   ]
  },
  {
   "cell_type": "code",
   "execution_count": 30,
   "id": "324af619",
   "metadata": {},
   "outputs": [
    {
     "name": "stdout",
     "output_type": "stream",
     "text": [
      "Model: \"sequential_1\"\n",
      "_________________________________________________________________\n",
      " Layer (type)                Output Shape              Param #   \n",
      "=================================================================\n",
      " embedding_1 (Embedding)     (None, 200, 32)           4048416   \n",
      "                                                                 \n",
      " bidirectional (Bidirection  (None, 64)                16640     \n",
      " al)                                                             \n",
      "                                                                 \n",
      " dense_1 (Dense)             (None, 1)                 65        \n",
      "                                                                 \n",
      "=================================================================\n",
      "Total params: 4065121 (15.51 MB)\n",
      "Trainable params: 4065121 (15.51 MB)\n",
      "Non-trainable params: 0 (0.00 Byte)\n",
      "_________________________________________________________________\n"
     ]
    }
   ],
   "source": [
    "model_bi_lstm = Sequential()\n",
    "embedding_dim = 32\n",
    "vocab_size = len(tokenizer.word_index) + 1\n",
    "model_bi_lstm.add(Embedding(input_dim=vocab_size, output_dim=embedding_dim, input_length=sequence_length))\n",
    "model_bi_lstm.add(Bidirectional(LSTM(units=32)))# Ajouter une couche Bidirectional LSTM\n",
    "model_bi_lstm.add(Dense(units=1, activation='sigmoid'))\n",
    "model_bi_lstm.summary()"
   ]
  },
  {
   "cell_type": "markdown",
   "id": "db4df0af",
   "metadata": {},
   "source": [
    "> ##  <span style=\"color:green ; font-style:italic; text-decoration:underline;\"> 2- Compilation du Modèle Bi-LSTM </span>"
   ]
  },
  {
   "cell_type": "code",
   "execution_count": 32,
   "id": "70ee4f3f",
   "metadata": {},
   "outputs": [],
   "source": [
    "model_bi_lstm.compile(optimizer='adam', loss='binary_crossentropy', metrics=['accuracy'])"
   ]
  },
  {
   "cell_type": "markdown",
   "id": "c9b57a60",
   "metadata": {},
   "source": [
    "> ##  <span style=\"color:green ; font-style:italic; text-decoration:underline;\"> 3- Entraînement du Modèle Bi-LSTM </span>"
   ]
  },
  {
   "cell_type": "code",
   "execution_count": 33,
   "id": "a4c1982f",
   "metadata": {},
   "outputs": [
    {
     "name": "stdout",
     "output_type": "stream",
     "text": [
      "Epoch 1/10\n",
      "250/250 [==============================] - 53s 203ms/step - loss: 0.4528 - accuracy: 0.7903 - val_loss: 0.2955 - val_accuracy: 0.8783\n",
      "Epoch 2/10\n",
      "250/250 [==============================] - 50s 199ms/step - loss: 0.2013 - accuracy: 0.9273 - val_loss: 0.2847 - val_accuracy: 0.8876\n",
      "Epoch 3/10\n",
      "250/250 [==============================] - 57s 230ms/step - loss: 0.1104 - accuracy: 0.9641 - val_loss: 0.3287 - val_accuracy: 0.8835\n",
      "Epoch 4/10\n",
      "250/250 [==============================] - 50s 201ms/step - loss: 0.0563 - accuracy: 0.9837 - val_loss: 0.4558 - val_accuracy: 0.8594\n",
      "Epoch 5/10\n",
      "250/250 [==============================] - 54s 218ms/step - loss: 0.0443 - accuracy: 0.9870 - val_loss: 0.4718 - val_accuracy: 0.8685\n",
      "Epoch 6/10\n",
      "250/250 [==============================] - 51s 203ms/step - loss: 0.0385 - accuracy: 0.9881 - val_loss: 0.5819 - val_accuracy: 0.8640\n",
      "Epoch 7/10\n",
      "250/250 [==============================] - 50s 201ms/step - loss: 0.0203 - accuracy: 0.9945 - val_loss: 0.5707 - val_accuracy: 0.8652\n",
      "Epoch 8/10\n",
      "250/250 [==============================] - 49s 196ms/step - loss: 0.0112 - accuracy: 0.9974 - val_loss: 0.6396 - val_accuracy: 0.8627\n",
      "Epoch 9/10\n",
      "250/250 [==============================] - 53s 211ms/step - loss: 0.0100 - accuracy: 0.9974 - val_loss: 0.5756 - val_accuracy: 0.8666\n",
      "Epoch 10/10\n",
      "250/250 [==============================] - 51s 202ms/step - loss: 0.0211 - accuracy: 0.9937 - val_loss: 0.6485 - val_accuracy: 0.8627\n"
     ]
    },
    {
     "data": {
      "image/png": "[encoded data removed]",
      "text/plain": [
       "<Figure size 640x480 with 1 Axes>"
      ]
     },
     "metadata": {},
     "output_type": "display_data"
    }
   ],
   "source": [
    "history_bi_lstm = model_bi_lstm.fit(X_train, y_train, epochs=10, batch_size=128, validation_split=0.2)\n",
    "plt.plot(history_bi_lstm.history['loss'], label='Training Loss')\n",
    "plt.plot(history_bi_lstm.history['accuracy'], label='Training Accuracy')\n",
    "plt.xlabel('Epochs')\n",
    "plt.legend()\n",
    "plt.show()"
   ]
  },
  {
   "cell_type": "markdown",
   "id": "86eac926",
   "metadata": {},
   "source": [
    "> ##  <span style=\"color:green ; font-style:italic; text-decoration:underline;\"> 3 - Évaluation du Modèle Bi-LSTM sur l'ensemble de test </span>"
   ]
  },
  {
   "cell_type": "code",
   "execution_count": 34,
   "id": "efc0b396",
   "metadata": {},
   "outputs": [
    {
     "name": "stdout",
     "output_type": "stream",
     "text": [
      "313/313 [==============================] - 7s 21ms/step - loss: 0.6147 - accuracy: 0.8661\n",
      "Loss: 0.6147105097770691, Accuracy: 0.866100013256073\n"
     ]
    }
   ],
   "source": [
    "loss_bi_lstm, accuracy_bi_lstm = model_bi_lstm.evaluate(X_test, y_test)\n",
    "print(f'Loss: {loss_bi_lstm}, Accuracy: {accuracy_bi_lstm}')\n"
   ]
  },
  {
   "cell_type": "markdown",
   "id": "e0fa52e6",
   "metadata": {},
   "source": [
    "> ##  <span style=\"color:green ; font-style:italic; text-decoration:underline;\"> 4 - Prédictions sur l'ensemble de test </span>"
   ]
  },
  {
   "cell_type": "code",
   "execution_count": 35,
   "id": "bc828047",
   "metadata": {},
   "outputs": [
    {
     "name": "stdout",
     "output_type": "stream",
     "text": [
      "313/313 [==============================] - 7s 21ms/step\n",
      "Accuracy: 0.8661\n",
      "métriques de performance : \n",
      "              precision    recall  f1-score   support\n",
      "\n",
      "           0       0.89      0.84      0.86      4961\n",
      "           1       0.85      0.90      0.87      5039\n",
      "\n",
      "    accuracy                           0.87     10000\n",
      "   macro avg       0.87      0.87      0.87     10000\n",
      "weighted avg       0.87      0.87      0.87     10000\n",
      "\n"
     ]
    }
   ],
   "source": [
    "y_pred_probs = model_bi_lstm.predict(X_test)\n",
    "y_pred = np.round(y_pred_probs).flatten()# Convertir les probabilités en classes\n",
    "precision = accuracy_score(y_test, y_pred)\n",
    "print(f'Accuracy: {precision}')\n",
    "\n",
    "print('métriques de performance : ')\n",
    "print(classification_report(y_test, y_pred))"
   ]
  },
  {
   "cell_type": "markdown",
   "id": "1de63f94",
   "metadata": {},
   "source": [
    "> #### Accuracy (Précision globale) : 86.61%\n",
    "    - L'accuracy représente le pourcentage total de prédictions correctes par rapport au nombre total d'échantillons. Dans ce cas, l'accuracy est de 86.61%, ce qui indique que le modèle Bi-LSTM a correctement classé environ 86.61% des échantillons.\n",
    "> #### Précision, Recall, et F1-score par Classe :\n",
    ">> ##### Classe 0 (Première classe : négative) :\n",
    "    * Précision : 89%\n",
    "        - Cela signifie que parmi toutes les prédictions positives pour la classe 0, 89% étaient correctes.\n",
    "    * Rappel (Sensibilité) : 84%\n",
    "        - Cela signifie que parmi tous les exemples réels de la classe 0, le modèle en a correctement identifié 84%.\n",
    "    * F1-score : 86%\n",
    "        - Il s'agit de la moyenne pondérée de la précision et du rappel, et elle est de 86% pour la classe 0.\n",
    ">> ##### Classe 1 (Deuxième classe: positive) :\n",
    "    * Précision : 85%\n",
    "        - Cela signifie que parmi toutes les prédictions positives pour la classe 1, 85% étaient correctes.\n",
    "    * Rappel : 90%\n",
    "        - Cela signifie que parmi tous les exemples réels de la classe 1, le modèle en a correctement identifié 90%.\n",
    "    * F1-score : 87%\n",
    "        - Il s'agit de la moyenne pondérée de la précision et du rappel, et elle est de 87% pour la classe 1.\n",
    "> #### Moyennes pondérées :\n",
    "    - Moyenne pondérée de la précision : 87%\n",
    "    - Moyenne pondérée du rappel : 87%\n",
    "    - Moyenne pondérée du F1-score : 87%\n",
    "> #### Macro-average :\n",
    "    * Macro-average de la précision, du rappel et du F1-score : 87%\n",
    "        - La macro-average prend la moyenne non pondérée des métriques pour chaque classe. Dans ce cas, elle est de 87%, ce qui indique un bon équilibre global entre les performances des deux classes."
   ]
  },
  {
   "cell_type": "code",
   "execution_count": null,
   "id": "6bd3b8a4",
   "metadata": {},
   "outputs": [],
   "source": []
  }
 ],
 "metadata": {
  "kernelspec": {
   "display_name": "Python 3 (ipykernel)",
   "language": "python",
   "name": "python3"
  },
  "language_info": {
   "codemirror_mode": {
    "name": "ipython",
    "version": 3
   },
   "file_extension": ".py",
   "mimetype": "text/x-python",
   "name": "python",
   "nbconvert_exporter": "python",
   "pygments_lexer": "ipython3",
   "version": "3.10.6"
  }
 },
 "nbformat": 4,
 "nbformat_minor": 5
}
